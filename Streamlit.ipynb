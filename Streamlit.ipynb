{
 "cells": [
  {
   "cell_type": "code",
   "execution_count": 3,
   "id": "b9029163",
   "metadata": {},
   "outputs": [
    {
     "data": {
      "text/plain": [
       "DeltaGenerator()"
      ]
     },
     "execution_count": 3,
     "metadata": {},
     "output_type": "execute_result"
    }
   ],
   "source": [
    "import streamlit as st\n",
    "import pandas as pd\n",
    "st.set_page_config(page_title='My NBA Award Predictions', layout='wide' )\n",
    "#Header\n",
    "\n",
    "st.subheader(\"Using Linear Regression to predict 3 NBA Awards in real time. Will add other awards soon\")\n",
    "st.title(\"MVP Prediction\")\n",
    "\n",
    "df = pd.read_csv('mvp_leaders.csv')\n",
    "df = df.drop('Unnamed: 0', axis=1)\n",
    "\n",
    "st.dataframe(df, height=300)\n",
    "\n",
    "\n",
    "\n",
    "st.title(\"DPOY Prediction\")\n",
    "\n",
    "df1 = pd.read_csv('dpoy_leaders.csv')\n",
    "df1 = df1.drop('Unnamed: 0', axis=1)\n",
    "\n",
    "st.dataframe(df1, height=300)\n",
    "\n",
    "\n",
    "st.title(\"ROTY Prediction\")\n",
    "\n",
    "df2 = pd.read_csv('roty_leaders.csv')\n",
    "df2 = df2.drop('Unnamed: 0', axis=1)\n",
    "\n",
    "st.dataframe(df2, height=300)\n",
    "\n"
   ]
  },
  {
   "cell_type": "code",
   "execution_count": 2,
   "id": "40bfb8f9",
   "metadata": {},
   "outputs": [
    {
     "ename": "SyntaxError",
     "evalue": "invalid syntax (3303438180.py, line 1)",
     "output_type": "error",
     "traceback": [
      "\u001b[1;36m  Cell \u001b[1;32mIn[2], line 1\u001b[1;36m\u001b[0m\n\u001b[1;33m    streamlit run untitled.py\u001b[0m\n\u001b[1;37m              ^\u001b[0m\n\u001b[1;31mSyntaxError\u001b[0m\u001b[1;31m:\u001b[0m invalid syntax\n"
     ]
    }
   ],
   "source": [
    "streamlit run untitled.py"
   ]
  },
  {
   "cell_type": "code",
   "execution_count": null,
   "id": "fda52b57",
   "metadata": {},
   "outputs": [],
   "source": []
  }
 ],
 "metadata": {
  "kernelspec": {
   "display_name": "Python 3 (ipykernel)",
   "language": "python",
   "name": "python3"
  },
  "language_info": {
   "codemirror_mode": {
    "name": "ipython",
    "version": 3
   },
   "file_extension": ".py",
   "mimetype": "text/x-python",
   "name": "python",
   "nbconvert_exporter": "python",
   "pygments_lexer": "ipython3",
   "version": "3.11.4"
  }
 },
 "nbformat": 4,
 "nbformat_minor": 5
}
